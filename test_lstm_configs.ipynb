{
 "cells": [
  {
   "cell_type": "code",
   "execution_count": 1,
   "metadata": {},
   "outputs": [
    {
     "name": "stderr",
     "output_type": "stream",
     "text": [
      "Using TensorFlow backend.\n"
     ]
    }
   ],
   "source": [
    "from pandas import DataFrame\n",
    "from pandas import Series\n",
    "from pandas import concat\n",
    "from pandas import read_csv\n",
    "from pandas import datetime\n",
    "from sklearn.metrics import mean_squared_error\n",
    "from sklearn.preprocessing import MinMaxScaler\n",
    "from keras.models import Sequential\n",
    "from keras.layers import Dense\n",
    "from keras.layers import LSTM\n",
    "from math import sqrt\n",
    "import matplotlib.pyplot as plt\n",
    "import numpy as np\n",
    "%matplotlib inline"
   ]
  },
  {
   "cell_type": "code",
   "execution_count": 2,
   "metadata": {
    "collapsed": true
   },
   "outputs": [],
   "source": [
    "np.random.seed(7777)"
   ]
  },
  {
   "cell_type": "code",
   "execution_count": 3,
   "metadata": {
    "collapsed": true
   },
   "outputs": [],
   "source": [
    "trend_train = np.arange(11,111, dtype='float64') + np.random.normal(scale=2, size=100)\n",
    "trend_test_outofrange = np.arange(111,131, dtype='float64') + np.random.normal(scale=2, size=20)\n",
    "trend_test_inrange = np.arange(31,51, dtype='float64') + np.random.normal(scale=2, size=20)"
   ]
  },
  {
   "cell_type": "code",
   "execution_count": 4,
   "metadata": {
    "collapsed": true
   },
   "outputs": [],
   "source": [
    "train = trend_train\n",
    "test = trend_test_outofrange"
   ]
  },
  {
   "cell_type": "code",
   "execution_count": 5,
   "metadata": {
    "collapsed": true
   },
   "outputs": [],
   "source": [
    "lstm_stateful = True\n",
    "lstm_num_timesteps = 4 # for diffed series\n",
    "effective_timesteps = lstm_num_timesteps+1\n",
    "lstm_num_features = 1\n",
    "num_neurons = 4\n",
    "batchsize = 1\n",
    "num_epochs = 500"
   ]
  },
  {
   "cell_type": "code",
   "execution_count": 6,
   "metadata": {
    "collapsed": true
   },
   "outputs": [],
   "source": [
    "def difference(dataset, interval=1):\n",
    "    diff = list()\n",
    "    for i in range(interval, len(dataset)):\n",
    "        value = dataset[i] - dataset[i - interval]\n",
    "        diff.append(value)\n",
    "    return(diff)\n",
    "\n",
    "def inverse_difference(history, yhat, interval=1):\n",
    "    # history[-len(series)] is first item, history[-len(series) - 1] is second, etc. \n",
    "    return yhat + history[-interval]"
   ]
  },
  {
   "cell_type": "code",
   "execution_count": 7,
   "metadata": {},
   "outputs": [
    {
     "data": {
      "text/plain": [
       "[0.27338302596317021,\n",
       " 1.7310265497711441,\n",
       " 1.7451128164638021,\n",
       " 0.29727845971444822,\n",
       " -0.061718680499211587,\n",
       " 2.0725813598952101,\n",
       " -3.0916986883747199,\n",
       " 3.3959042561117627,\n",
       " 5.4305546542064178,\n",
       " 0.16910568625694111,\n",
       " 0.90280661853361721,\n",
       " -0.65152964591959517,\n",
       " 1.5494066806911633,\n",
       " -0.63092790701740853,\n",
       " 2.8014413479762936,\n",
       " 1.8094951282746763,\n",
       " -0.45663481451620669,\n",
       " 2.7467181214053369,\n",
       " -2.3186887828005354]"
      ]
     },
     "execution_count": 7,
     "metadata": {},
     "output_type": "execute_result"
    }
   ],
   "source": [
    "train_diff = difference(train, 1)\n",
    "test_diff = difference(test, 1)\n",
    "test_diff"
   ]
  },
  {
   "cell_type": "code",
   "execution_count": 8,
   "metadata": {},
   "outputs": [
    {
     "name": "stdout",
     "output_type": "stream",
     "text": [
      "   var1(t-3)  var1(t-2)  var1(t-1)  var1(t)\n",
      "3        0.0        1.0        2.0        3\n",
      "4        1.0        2.0        3.0        4\n",
      "5        2.0        3.0        4.0        5\n",
      "6        3.0        4.0        5.0        6\n",
      "7        4.0        5.0        6.0        7\n",
      "8        5.0        6.0        7.0        8\n",
      "9        6.0        7.0        8.0        9\n"
     ]
    }
   ],
   "source": [
    "from pandas import DataFrame\n",
    "from pandas import concat\n",
    "\n",
    "def series_to_supervised(data, n_in=1, n_out=1, dropnan=True):\n",
    "    \"\"\"\n",
    "    Frame a time series as a supervised learning dataset.\n",
    "    Arguments:\n",
    "    data: Sequence of observations as a list or NumPy array.\n",
    "    n_in: Number of lag observations as input (X).\n",
    "    n_out: Number of observations as output (y).\n",
    "    dropnan: Boolean whether or not to drop rows with NaN values.\n",
    "    Returns:\n",
    "    Pandas DataFrame of series framed for supervised learning.\n",
    "    \"\"\"\n",
    "    n_vars = 1 if type(data) is list else data.shape[1]\n",
    "    df = DataFrame(data)\n",
    "    cols, names = list(), list()\n",
    "    # input sequence (t-n, ... t-1)\n",
    "    for i in range(n_in, 0, -1):\n",
    "        cols.append(df.shift(i))\n",
    "        names += [('var%d(t-%d)' % (j+1, i)) for j in range(n_vars)]\n",
    "    # forecast sequence (t, t+1, ... t+n)\n",
    "    for i in range(0, n_out):\n",
    "        cols.append(df.shift(-i))\n",
    "        if i == 0:\n",
    "            names += [('var%d(t)' % (j+1)) for j in range(n_vars)]\n",
    "        else:\n",
    "            names += [('var%d(t+%d)' % (j+1, i)) for j in range(n_vars)]\n",
    "        # put it all together\n",
    "    agg = concat(cols, axis=1)\n",
    "    agg.columns = names\n",
    "    # drop rows with NaN values\n",
    "    if dropnan:\n",
    "        agg.dropna(inplace=True)\n",
    "    return agg\n",
    "\n",
    "\n",
    "values = [x for x in range(10)]\n",
    "data = series_to_supervised(values,3)\n",
    "print(data)"
   ]
  },
  {
   "cell_type": "code",
   "execution_count": 9,
   "metadata": {},
   "outputs": [
    {
     "data": {
      "text/html": [
       "<div>\n",
       "<table border=\"1\" class=\"dataframe\">\n",
       "  <thead>\n",
       "    <tr style=\"text-align: right;\">\n",
       "      <th></th>\n",
       "      <th>var1(t-4)</th>\n",
       "      <th>var1(t-3)</th>\n",
       "      <th>var1(t-2)</th>\n",
       "      <th>var1(t-1)</th>\n",
       "      <th>var1(t)</th>\n",
       "    </tr>\n",
       "  </thead>\n",
       "  <tbody>\n",
       "    <tr>\n",
       "      <th>4</th>\n",
       "      <td>0.273383</td>\n",
       "      <td>1.731027</td>\n",
       "      <td>1.745113</td>\n",
       "      <td>0.297278</td>\n",
       "      <td>-0.061719</td>\n",
       "    </tr>\n",
       "    <tr>\n",
       "      <th>5</th>\n",
       "      <td>1.731027</td>\n",
       "      <td>1.745113</td>\n",
       "      <td>0.297278</td>\n",
       "      <td>-0.061719</td>\n",
       "      <td>2.072581</td>\n",
       "    </tr>\n",
       "    <tr>\n",
       "      <th>6</th>\n",
       "      <td>1.745113</td>\n",
       "      <td>0.297278</td>\n",
       "      <td>-0.061719</td>\n",
       "      <td>2.072581</td>\n",
       "      <td>-3.091699</td>\n",
       "    </tr>\n",
       "    <tr>\n",
       "      <th>7</th>\n",
       "      <td>0.297278</td>\n",
       "      <td>-0.061719</td>\n",
       "      <td>2.072581</td>\n",
       "      <td>-3.091699</td>\n",
       "      <td>3.395904</td>\n",
       "    </tr>\n",
       "    <tr>\n",
       "      <th>8</th>\n",
       "      <td>-0.061719</td>\n",
       "      <td>2.072581</td>\n",
       "      <td>-3.091699</td>\n",
       "      <td>3.395904</td>\n",
       "      <td>5.430555</td>\n",
       "    </tr>\n",
       "    <tr>\n",
       "      <th>9</th>\n",
       "      <td>2.072581</td>\n",
       "      <td>-3.091699</td>\n",
       "      <td>3.395904</td>\n",
       "      <td>5.430555</td>\n",
       "      <td>0.169106</td>\n",
       "    </tr>\n",
       "    <tr>\n",
       "      <th>10</th>\n",
       "      <td>-3.091699</td>\n",
       "      <td>3.395904</td>\n",
       "      <td>5.430555</td>\n",
       "      <td>0.169106</td>\n",
       "      <td>0.902807</td>\n",
       "    </tr>\n",
       "    <tr>\n",
       "      <th>11</th>\n",
       "      <td>3.395904</td>\n",
       "      <td>5.430555</td>\n",
       "      <td>0.169106</td>\n",
       "      <td>0.902807</td>\n",
       "      <td>-0.651530</td>\n",
       "    </tr>\n",
       "    <tr>\n",
       "      <th>12</th>\n",
       "      <td>5.430555</td>\n",
       "      <td>0.169106</td>\n",
       "      <td>0.902807</td>\n",
       "      <td>-0.651530</td>\n",
       "      <td>1.549407</td>\n",
       "    </tr>\n",
       "    <tr>\n",
       "      <th>13</th>\n",
       "      <td>0.169106</td>\n",
       "      <td>0.902807</td>\n",
       "      <td>-0.651530</td>\n",
       "      <td>1.549407</td>\n",
       "      <td>-0.630928</td>\n",
       "    </tr>\n",
       "    <tr>\n",
       "      <th>14</th>\n",
       "      <td>0.902807</td>\n",
       "      <td>-0.651530</td>\n",
       "      <td>1.549407</td>\n",
       "      <td>-0.630928</td>\n",
       "      <td>2.801441</td>\n",
       "    </tr>\n",
       "    <tr>\n",
       "      <th>15</th>\n",
       "      <td>-0.651530</td>\n",
       "      <td>1.549407</td>\n",
       "      <td>-0.630928</td>\n",
       "      <td>2.801441</td>\n",
       "      <td>1.809495</td>\n",
       "    </tr>\n",
       "    <tr>\n",
       "      <th>16</th>\n",
       "      <td>1.549407</td>\n",
       "      <td>-0.630928</td>\n",
       "      <td>2.801441</td>\n",
       "      <td>1.809495</td>\n",
       "      <td>-0.456635</td>\n",
       "    </tr>\n",
       "    <tr>\n",
       "      <th>17</th>\n",
       "      <td>-0.630928</td>\n",
       "      <td>2.801441</td>\n",
       "      <td>1.809495</td>\n",
       "      <td>-0.456635</td>\n",
       "      <td>2.746718</td>\n",
       "    </tr>\n",
       "    <tr>\n",
       "      <th>18</th>\n",
       "      <td>2.801441</td>\n",
       "      <td>1.809495</td>\n",
       "      <td>-0.456635</td>\n",
       "      <td>2.746718</td>\n",
       "      <td>-2.318689</td>\n",
       "    </tr>\n",
       "  </tbody>\n",
       "</table>\n",
       "</div>"
      ],
      "text/plain": [
       "    var1(t-4)  var1(t-3)  var1(t-2)  var1(t-1)   var1(t)\n",
       "4    0.273383   1.731027   1.745113   0.297278 -0.061719\n",
       "5    1.731027   1.745113   0.297278  -0.061719  2.072581\n",
       "6    1.745113   0.297278  -0.061719   2.072581 -3.091699\n",
       "7    0.297278  -0.061719   2.072581  -3.091699  3.395904\n",
       "8   -0.061719   2.072581  -3.091699   3.395904  5.430555\n",
       "9    2.072581  -3.091699   3.395904   5.430555  0.169106\n",
       "10  -3.091699   3.395904   5.430555   0.169106  0.902807\n",
       "11   3.395904   5.430555   0.169106   0.902807 -0.651530\n",
       "12   5.430555   0.169106   0.902807  -0.651530  1.549407\n",
       "13   0.169106   0.902807  -0.651530   1.549407 -0.630928\n",
       "14   0.902807  -0.651530   1.549407  -0.630928  2.801441\n",
       "15  -0.651530   1.549407  -0.630928   2.801441  1.809495\n",
       "16   1.549407  -0.630928   2.801441   1.809495 -0.456635\n",
       "17  -0.630928   2.801441   1.809495  -0.456635  2.746718\n",
       "18   2.801441   1.809495  -0.456635   2.746718 -2.318689"
      ]
     },
     "execution_count": 9,
     "metadata": {},
     "output_type": "execute_result"
    }
   ],
   "source": [
    "train_diff_df = series_to_supervised(train_diff,lstm_num_timesteps)\n",
    "test_diff_df = series_to_supervised(test_diff,lstm_num_timesteps)\n",
    "test_diff_df"
   ]
  },
  {
   "cell_type": "code",
   "execution_count": 10,
   "metadata": {
    "collapsed": true
   },
   "outputs": [],
   "source": [
    "train_diff_matrix = train_diff_df.values\n",
    "test_diff_matrix = test_diff_df.values"
   ]
  },
  {
   "cell_type": "code",
   "execution_count": 11,
   "metadata": {},
   "outputs": [
    {
     "data": {
      "text/plain": [
       "array([[ 1.72704053, -0.71318758,  0.79501148,  6.65996568, -2.59368682],\n",
       "       [-0.71318758,  0.79501148,  6.65996568, -2.59368682, -1.71367586],\n",
       "       [ 0.79501148,  6.65996568, -2.59368682, -1.71367586,  2.74897887],\n",
       "       [ 6.65996568, -2.59368682, -1.71367586,  2.74897887,  0.11040753],\n",
       "       [-2.59368682, -1.71367586,  2.74897887,  0.11040753,  1.57467113]])"
      ]
     },
     "execution_count": 11,
     "metadata": {},
     "output_type": "execute_result"
    }
   ],
   "source": [
    "train_diff_matrix[:5,:]"
   ]
  },
  {
   "cell_type": "code",
   "execution_count": 12,
   "metadata": {
    "collapsed": true
   },
   "outputs": [],
   "source": [
    "def scale(train, test):\n",
    "    scaler = MinMaxScaler(feature_range=(-1, 1))\n",
    "    scaler = scaler.fit(train)\n",
    "    train = train.reshape(train.shape[0], train.shape[1])\n",
    "    train_scaled = scaler.transform(train)\n",
    "    test = test.reshape(test.shape[0], test.shape[1])\n",
    "    test_scaled = scaler.transform(test)\n",
    "    return scaler, train_scaled, test_scaled\n",
    "\n",
    "def invert_scale(scaler, X, yhat):\n",
    "    new_row = [x for x in X] + [yhat]\n",
    "    array = np.array(new_row)\n",
    "    array = array.reshape(1, len(array))\n",
    "    inverted = scaler.inverse_transform(array)\n",
    "    return inverted[0, -1]\n"
   ]
  },
  {
   "cell_type": "code",
   "execution_count": 13,
   "metadata": {},
   "outputs": [
    {
     "data": {
      "text/plain": [
       "array([[ 0.15835973,  0.34382199,  0.34561424,  0.16140005,  0.11572329],\n",
       "       [ 0.34382199,  0.34561424,  0.16140005,  0.11572329,  0.38727948],\n",
       "       [ 0.34561424,  0.16140005,  0.11572329,  0.38727948, -0.26979411],\n",
       "       [ 0.16140005,  0.11572329,  0.38727948, -0.26979411,  0.55565155],\n",
       "       [ 0.11572329,  0.38727948, -0.26979411,  0.55565155,  0.81452888],\n",
       "       [ 0.38727948, -0.26979411,  0.55565155,  0.81452888,  0.14509207],\n",
       "       [-0.26979411,  0.55565155,  0.81452888,  0.14509207,  0.238444  ],\n",
       "       [ 0.55565155,  0.81452888,  0.14509207,  0.238444  ,  0.04067911],\n",
       "       [ 0.81452888,  0.14509207,  0.238444  ,  0.04067911,  0.32071371],\n",
       "       [ 0.14509207,  0.238444  ,  0.04067911,  0.32071371,  0.04330035],\n",
       "       [ 0.238444  ,  0.04067911,  0.32071371,  0.04330035,  0.48001547],\n",
       "       [ 0.04067911,  0.32071371,  0.04330035,  0.48001547,  0.35380588],\n",
       "       [ 0.32071371,  0.04330035,  0.48001547,  0.35380588,  0.06547641],\n",
       "       [ 0.04330035,  0.48001547,  0.35380588,  0.06547641,  0.4730528 ],\n",
       "       [ 0.48001547,  0.35380588,  0.06547641,  0.4730528 , -0.17144073]])"
      ]
     },
     "execution_count": 13,
     "metadata": {},
     "output_type": "execute_result"
    }
   ],
   "source": [
    "scaler, train_scaled, test_scaled = scale(train_diff_matrix, test_diff_matrix)\n",
    "test_scaled"
   ]
  },
  {
   "cell_type": "code",
   "execution_count": 14,
   "metadata": {
    "collapsed": true
   },
   "outputs": [],
   "source": [
    "def fit_lstm_stateful(train, batchsize, num_epochs, num_neurons):\n",
    "    X, y = train[:, 0:-1], train[:, -1]\n",
    "    # reshape input to be [samples, time steps, features]\n",
    "    X = np.reshape(X, (X.shape[0], lstm_num_timesteps, lstm_num_features))\n",
    "    model = Sequential()\n",
    "    model.add(LSTM(num_neurons, batch_input_shape=(batchsize, X.shape[1], X.shape[2]), stateful=True))\n",
    "    model.add(Dense(1))\n",
    "    model.compile(loss='mean_squared_error', optimizer='adam')\n",
    "    model.summary()\n",
    "    for i in range(num_epochs):\n",
    "        model.fit(X, y, epochs=1, batch_size=batchsize, verbose=1, shuffle=False)\n",
    "        model.reset_states()\n",
    "    return model"
   ]
  },
  {
   "cell_type": "code",
   "execution_count": 15,
   "metadata": {
    "collapsed": true
   },
   "outputs": [],
   "source": [
    "def fit_lstm_stateless(train, batchsize, num_epochs, num_neurons):\n",
    "    X, y = train[:, 0:-1], train[:, -1]\n",
    "    # reshape input to be [samples, time steps, features]\n",
    "    X = np.reshape(X, (X.shape[0], lstm_num_timesteps, lstm_num_features))\n",
    "    model = Sequential()\n",
    "    model.add(LSTM(num_neurons, batch_input_shape=(batchsize, X.shape[1], X.shape[2])))\n",
    "    model.add(Dense(1))\n",
    "    model.compile(loss='mean_squared_error', optimizer='adam')\n",
    "    model.summary()\n",
    "    model.fit(X, y, epochs=num_epochs, batch_size=batchsize, verbose=1, shuffle=True)\n",
    "    return model"
   ]
  },
  {
   "cell_type": "code",
   "execution_count": 16,
   "metadata": {
    "collapsed": true
   },
   "outputs": [],
   "source": [
    "def forecast_lstm(model, batch_size, X):\n",
    "    if lstm_stateful:\n",
    "         model.reset_states()\n",
    "    X = X.reshape(1, len(X), 1)\n",
    "    yhat = model.predict(X, batch_size=batch_size)\n",
    "    return yhat[0,0]"
   ]
  },
  {
   "cell_type": "code",
   "execution_count": 17,
   "metadata": {},
   "outputs": [
    {
     "name": "stdout",
     "output_type": "stream",
     "text": [
      "_________________________________________________________________\n",
      "Layer (type)                 Output Shape              Param #   \n",
      "=================================================================\n",
      "lstm_1 (LSTM)                (1, 4)                    96        \n",
      "_________________________________________________________________\n",
      "dense_1 (Dense)              (1, 1)                    5         \n",
      "=================================================================\n",
      "Total params: 101\n",
      "Trainable params: 101\n",
      "Non-trainable params: 0\n",
      "_________________________________________________________________\n",
      "Epoch 1/1\n",
      "95/95 [==============================] - 0s - loss: 0.1837     \n",
      "Epoch 1/1\n",
      "95/95 [==============================] - 0s - loss: 0.1488     \n",
      "Epoch 1/1\n",
      "95/95 [==============================] - 0s - loss: 0.1394     \n",
      "Epoch 1/1\n",
      "95/95 [==============================] - 0s - loss: 0.1359     \n",
      "Epoch 1/1\n",
      "95/95 [==============================] - 0s - loss: 0.1330     \n",
      "Epoch 1/1\n",
      "95/95 [==============================] - 0s - loss: 0.1300     \n",
      "Epoch 1/1\n",
      "95/95 [==============================] - 0s - loss: 0.1270     \n",
      "Epoch 1/1\n",
      "95/95 [==============================] - 0s - loss: 0.1237     \n",
      "Epoch 1/1\n",
      "95/95 [==============================] - 0s - loss: 0.1203     \n",
      "Epoch 1/1\n",
      "95/95 [==============================] - 0s - loss: 0.1166     \n",
      "Epoch 1/1\n",
      "95/95 [==============================] - 0s - loss: 0.1128     \n",
      "Epoch 1/1\n",
      "95/95 [==============================] - 0s - loss: 0.1088     \n",
      "Epoch 1/1\n",
      "95/95 [==============================] - 0s - loss: 0.1048     \n",
      "Epoch 1/1\n",
      "95/95 [==============================] - 0s - loss: 0.1010     \n",
      "Epoch 1/1\n",
      "95/95 [==============================] - 0s - loss: 0.0973     \n",
      "Epoch 1/1\n",
      "95/95 [==============================] - 0s - loss: 0.0941     \n",
      "Epoch 1/1\n",
      "95/95 [==============================] - 0s - loss: 0.0914     \n",
      "Epoch 1/1\n",
      "95/95 [==============================] - 0s - loss: 0.0892     \n",
      "Epoch 1/1\n",
      "95/95 [==============================] - 0s - loss: 0.0875     \n",
      "Epoch 1/1\n",
      "95/95 [==============================] - 0s - loss: 0.0862     \n",
      "Epoch 1/1\n",
      "95/95 [==============================] - 0s - loss: 0.0852     \n",
      "Epoch 1/1\n",
      "95/95 [==============================] - 0s - loss: 0.0845     \n",
      "Epoch 1/1\n",
      "95/95 [==============================] - 0s - loss: 0.0839     \n",
      "Epoch 1/1\n",
      "95/95 [==============================] - 0s - loss: 0.0835     \n",
      "Epoch 1/1\n",
      "95/95 [==============================] - 0s - loss: 0.0832     \n",
      "Epoch 1/1\n",
      "95/95 [==============================] - 0s - loss: 0.0829     \n",
      "Epoch 1/1\n",
      "95/95 [==============================] - 0s - loss: 0.0826     \n",
      "Epoch 1/1\n",
      "95/95 [==============================] - 0s - loss: 0.0824     \n",
      "Epoch 1/1\n",
      "95/95 [==============================] - 0s - loss: 0.0822     \n",
      "Epoch 1/1\n",
      "95/95 [==============================] - 0s - loss: 0.0820     \n",
      "Epoch 1/1\n",
      "95/95 [==============================] - 0s - loss: 0.0819     \n",
      "Epoch 1/1\n",
      "95/95 [==============================] - 0s - loss: 0.0817     \n",
      "Epoch 1/1\n",
      "95/95 [==============================] - 0s - loss: 0.0816     \n",
      "Epoch 1/1\n",
      "95/95 [==============================] - 0s - loss: 0.0814     \n",
      "Epoch 1/1\n",
      "95/95 [==============================] - 0s - loss: 0.0813     \n",
      "Epoch 1/1\n",
      "95/95 [==============================] - 0s - loss: 0.0811     \n",
      "Epoch 1/1\n",
      "95/95 [==============================] - 0s - loss: 0.0810     \n",
      "Epoch 1/1\n",
      "95/95 [==============================] - 0s - loss: 0.0809     \n",
      "Epoch 1/1\n",
      "95/95 [==============================] - 0s - loss: 0.0808     \n",
      "Epoch 1/1\n",
      "95/95 [==============================] - 0s - loss: 0.0807     \n",
      "Epoch 1/1\n",
      "95/95 [==============================] - 0s - loss: 0.0806     \n",
      "Epoch 1/1\n",
      "95/95 [==============================] - 0s - loss: 0.0805     \n",
      "Epoch 1/1\n",
      "95/95 [==============================] - 0s - loss: 0.0804     \n",
      "Epoch 1/1\n",
      "95/95 [==============================] - 0s - loss: 0.0803     \n",
      "Epoch 1/1\n",
      "95/95 [==============================] - 0s - loss: 0.0802     \n",
      "Epoch 1/1\n",
      "95/95 [==============================] - 0s - loss: 0.0801     \n",
      "Epoch 1/1\n",
      "95/95 [==============================] - 0s - loss: 0.0800     \n",
      "Epoch 1/1\n",
      "95/95 [==============================] - 0s - loss: 0.0799     \n",
      "Epoch 1/1\n",
      "95/95 [==============================] - 0s - loss: 0.0798     \n",
      "Epoch 1/1\n",
      "95/95 [==============================] - 0s - loss: 0.0797     \n",
      "Test RMSE: 2.643\n"
     ]
    }
   ],
   "source": [
    "train_diff = difference(train, 1)\n",
    "test_diff = difference(test, 1)\n",
    "train_matrix = series_to_supervised(train_diff, lstm_num_timesteps).values\n",
    "test_matrix = series_to_supervised(test_diff, lstm_num_timesteps).values\n",
    "scaler, train_scaled, test_scaled = scale(train_matrix, test_matrix)\n",
    "\n",
    "if lstm_stateful:\n",
    "    lstm_model = fit_lstm_stateful(train_scaled, batchsize, num_epochs, num_neurons)\n",
    "else:\n",
    "    lstm_model = fit_lstm_stateless(train_scaled, batchsize, num_epochs, num_neurons)\n",
    "        \n",
    "train_predictions = list()\n",
    "for i in range(len(train_scaled)):\n",
    "    X, y = train_scaled[i, 0:-1], train_scaled[i, -1]\n",
    "    yhat = forecast_lstm(lstm_model, 1, X)\n",
    "    yhat = invert_scale(scaler, X, yhat)\n",
    "    yhat = inverse_difference(train, yhat, len(train_scaled)+1-i)\n",
    "    train_predictions.append(yhat)\n",
    "            \n",
    "test_predictions = list()\n",
    "for i in range(len(test_scaled)):\n",
    "    X, y = test_scaled[i, 0:-1], test_scaled[i, -1]\n",
    "    yhat = forecast_lstm(lstm_model, 1, X)\n",
    "    yhat = invert_scale(scaler, X, yhat)\n",
    "    yhat = inverse_difference(test, yhat, len(test_scaled)+1-i)\n",
    "    test_predictions.append(yhat)\n",
    "         \n",
    "rmse = sqrt(mean_squared_error(test[effective_timesteps:], test_predictions))\n",
    "print('Test RMSE: %.3f' % rmse)"
   ]
  },
  {
   "cell_type": "code",
   "execution_count": 18,
   "metadata": {},
   "outputs": [
    {
     "data": {
      "text/plain": [
       "[114.31216783952888,\n",
       " 114.79609132408858,\n",
       " 115.99834677937967,\n",
       " 115.52983712916939,\n",
       " 116.39740440367744,\n",
       " 119.47846720243619,\n",
       " 121.18368668390588,\n",
       " 122.21773057786841,\n",
       " 123.1083820338778,\n",
       " 124.26658436914587]"
      ]
     },
     "execution_count": 18,
     "metadata": {},
     "output_type": "execute_result"
    }
   ],
   "source": [
    "test_predictions[:10]"
   ]
  },
  {
   "cell_type": "code",
   "execution_count": 19,
   "metadata": {},
   "outputs": [
    {
     "data": {
      "text/plain": [
       "[17.16739258119274,\n",
       " 17.807344958130088,\n",
       " 17.376940536541454,\n",
       " 18.248238764272656,\n",
       " 19.24263207437648,\n",
       " 19.848031136893191,\n",
       " 20.050593176952596,\n",
       " 20.652398230811034,\n",
       " 22.412956547561446,\n",
       " 23.040026774587055]"
      ]
     },
     "execution_count": 19,
     "metadata": {},
     "output_type": "execute_result"
    }
   ],
   "source": [
    "train_predictions[:10]"
   ]
  },
  {
   "cell_type": "code",
   "execution_count": 20,
   "metadata": {
    "collapsed": true
   },
   "outputs": [],
   "source": [
    "def plot_results(predicted_data, true_data):\n",
    "    fig = plt.figure(facecolor='white')\n",
    "    ax = fig.add_subplot(111)\n",
    "    ax.plot(true_data, label='True Data')\n",
    "    padding = [np.nan for i in range(effective_timesteps)]\n",
    "    plt.plot(padding + predicted_data, label='Prediction')\n",
    "    plt.legend()\n",
    "    plt.show()"
   ]
  },
  {
   "cell_type": "code",
   "execution_count": 21,
   "metadata": {},
   "outputs": [
    {
     "data": {
      "image/png": "[encoded data removed]",
      "text/plain": [
       "<matplotlib.figure.Figure at 0x7f56e226ea20>"
      ]
     },
     "metadata": {},
     "output_type": "display_data"
    }
   ],
   "source": [
    "plot_results(train_predictions, train)"
   ]
  },
  {
   "cell_type": "code",
   "execution_count": 22,
   "metadata": {},
   "outputs": [
    {
     "data": {
      "image/png": "[encoded data removed]",
      "text/plain": [
       "<matplotlib.figure.Figure at 0x7f56dc758ba8>"
      ]
     },
     "metadata": {},
     "output_type": "display_data"
    }
   ],
   "source": [
    "plot_results(test_predictions, test)"
   ]
  },
  {
   "cell_type": "code",
   "execution_count": null,
   "metadata": {
    "collapsed": true
   },
   "outputs": [],
   "source": []
  }
 ],
 "metadata": {
  "kernelspec": {
   "display_name": "Python 3",
   "language": "python",
   "name": "python3"
  },
  "language_info": {
   "codemirror_mode": {
    "name": "ipython",
    "version": 3
   },
   "file_extension": ".py",
   "mimetype": "text/x-python",
   "name": "python",
   "nbconvert_exporter": "python",
   "pygments_lexer": "ipython3",
   "version": "3.5.3"
  }
 },
 "nbformat": 4,
 "nbformat_minor": 2
}
