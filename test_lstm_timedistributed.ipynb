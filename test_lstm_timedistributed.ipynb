{
 "cells": [
  {
   "cell_type": "code",
   "execution_count": 1,
   "metadata": {},
   "outputs": [
    {
     "name": "stderr",
     "output_type": "stream",
     "text": [
      "Using TensorFlow backend.\n"
     ]
    }
   ],
   "source": [
    "from pandas import DataFrame\n",
    "from pandas import Series\n",
    "from pandas import concat\n",
    "from pandas import read_csv\n",
    "from pandas import datetime\n",
    "from sklearn.metrics import mean_squared_error\n",
    "from sklearn.preprocessing import MinMaxScaler\n",
    "from keras.models import Sequential\n",
    "from keras.layers import Dense\n",
    "from keras.layers import LSTM\n",
    "from math import sqrt\n",
    "import matplotlib.pyplot as plt\n",
    "import numpy as np\n",
    "%matplotlib inline"
   ]
  },
  {
   "cell_type": "code",
   "execution_count": 2,
   "metadata": {
    "collapsed": true
   },
   "outputs": [],
   "source": [
    "trend_train = np.arange(11,111, dtype='float64') + np.random.normal(scale=2, size=100)\n",
    "trend_test_outofrange = np.arange(111,131, dtype='float64') + np.random.normal(scale=2, size=20)\n",
    "trend_test_inrange = np.arange(31,51, dtype='float64') + np.random.normal(scale=2, size=20)"
   ]
  },
  {
   "cell_type": "code",
   "execution_count": 3,
   "metadata": {
    "collapsed": true
   },
   "outputs": [],
   "source": [
    "train = trend_train\n",
    "test = trend_test_outofrange"
   ]
  },
  {
   "cell_type": "code",
   "execution_count": 4,
   "metadata": {
    "collapsed": true
   },
   "outputs": [],
   "source": [
    "lstm_num_predictions = 5\n",
    "\n",
    "lstm_stateful = True\n",
    "lstm_num_timesteps = 4 # for diffed series\n",
    "effective_timesteps = lstm_num_timesteps+1\n",
    "num_neurons = 4\n",
    "batchsize = 1\n",
    "num_epochs = 5"
   ]
  },
  {
   "cell_type": "code",
   "execution_count": 5,
   "metadata": {
    "collapsed": true
   },
   "outputs": [],
   "source": [
    "def difference(dataset, interval=1):\n",
    "    diff = list()\n",
    "    for i in range(interval, len(dataset)):\n",
    "        value = dataset[i] - dataset[i - interval]\n",
    "        diff.append(value)\n",
    "    return(diff)\n",
    "\n",
    "def inverse_difference(history, yhat, interval=1):\n",
    "    # history[-len(series)] is first item, history[-len(series) - 1] is second, etc. \n",
    "    return yhat + history[-interval]"
   ]
  },
  {
   "cell_type": "code",
   "execution_count": 6,
   "metadata": {},
   "outputs": [
    {
     "data": {
      "text/plain": [
       "[4.5584643679563897,\n",
       " 0.33804596082947569,\n",
       " -1.5201184069377689,\n",
       " 1.7486714707211206,\n",
       " -0.18119266405436463,\n",
       " 1.5720270612310827,\n",
       " 1.4578341062771614,\n",
       " -2.2047558352407464,\n",
       " 2.2039912665931922,\n",
       " 1.9469257691628314,\n",
       " -0.88857117014900666,\n",
       " -1.4848153254617387,\n",
       " 3.7188198600422311,\n",
       " 0.88062480326006209,\n",
       " 1.7982437534353721,\n",
       " 1.5885222024935786,\n",
       " -0.1536246263263763,\n",
       " 0.10948671764545281,\n",
       " 4.0889710912433799]"
      ]
     },
     "execution_count": 6,
     "metadata": {},
     "output_type": "execute_result"
    }
   ],
   "source": [
    "train_diff = difference(train, 1)\n",
    "test_diff = difference(test, 1)\n",
    "test_diff"
   ]
  },
  {
   "cell_type": "code",
   "execution_count": 8,
   "metadata": {},
   "outputs": [
    {
     "name": "stdout",
     "output_type": "stream",
     "text": [
      "   var1(t-3)  var1(t-2)  var1(t-1)  var1(t)  var1(t+1)  var1(t+2)\n",
      "3        0.0        1.0        2.0        3        4.0        5.0\n",
      "4        1.0        2.0        3.0        4        5.0        6.0\n",
      "5        2.0        3.0        4.0        5        6.0        7.0\n",
      "6        3.0        4.0        5.0        6        7.0        8.0\n",
      "7        4.0        5.0        6.0        7        8.0        9.0\n"
     ]
    }
   ],
   "source": [
    "from pandas import DataFrame\n",
    "from pandas import concat\n",
    "\n",
    "def series_to_supervised(data, n_in=1, n_out=1, dropnan=True):\n",
    "    \"\"\"\n",
    "    Frame a time series as a supervised learning dataset.\n",
    "    Arguments:\n",
    "    data: Sequence of observations as a list or NumPy array.\n",
    "    n_in: Number of lag observations as input (X).\n",
    "    n_out: Number of observations as output (y).\n",
    "    dropnan: Boolean whether or not to drop rows with NaN values.\n",
    "    Returns:\n",
    "    Pandas DataFrame of series framed for supervised learning.\n",
    "    \"\"\"\n",
    "    n_vars = 1 if type(data) is list else data.shape[1]\n",
    "    df = DataFrame(data)\n",
    "    cols, names = list(), list()\n",
    "    # input sequence (t-n, ... t-1)\n",
    "    for i in range(n_in, 0, -1):\n",
    "        cols.append(df.shift(i))\n",
    "        names += [('var%d(t-%d)' % (j+1, i)) for j in range(n_vars)]\n",
    "    # forecast sequence (t, t+1, ... t+n)\n",
    "    for i in range(0, n_out):\n",
    "        cols.append(df.shift(-i))\n",
    "        if i == 0:\n",
    "            names += [('var%d(t)' % (j+1)) for j in range(n_vars)]\n",
    "        else:\n",
    "            names += [('var%d(t+%d)' % (j+1, i)) for j in range(n_vars)]\n",
    "        # put it all together\n",
    "    agg = concat(cols, axis=1)\n",
    "    agg.columns = names\n",
    "    # drop rows with NaN values\n",
    "    if dropnan:\n",
    "        agg.dropna(inplace=True)\n",
    "    return agg\n",
    "\n",
    "\n",
    "values = [x for x in range(10)]\n",
    "data = series_to_supervised(values,3,3)\n",
    "print(data)"
   ]
  },
  {
   "cell_type": "code",
   "execution_count": 9,
   "metadata": {},
   "outputs": [
    {
     "data": {
      "text/html": [
       "<div>\n",
       "<table border=\"1\" class=\"dataframe\">\n",
       "  <thead>\n",
       "    <tr style=\"text-align: right;\">\n",
       "      <th></th>\n",
       "      <th>var1(t-4)</th>\n",
       "      <th>var1(t-3)</th>\n",
       "      <th>var1(t-2)</th>\n",
       "      <th>var1(t-1)</th>\n",
       "      <th>var1(t)</th>\n",
       "      <th>var1(t+1)</th>\n",
       "      <th>var1(t+2)</th>\n",
       "      <th>var1(t+3)</th>\n",
       "      <th>var1(t+4)</th>\n",
       "    </tr>\n",
       "  </thead>\n",
       "  <tbody>\n",
       "    <tr>\n",
       "      <th>4</th>\n",
       "      <td>4.558464</td>\n",
       "      <td>0.338046</td>\n",
       "      <td>-1.520118</td>\n",
       "      <td>1.748671</td>\n",
       "      <td>-0.181193</td>\n",
       "      <td>1.572027</td>\n",
       "      <td>1.457834</td>\n",
       "      <td>-2.204756</td>\n",
       "      <td>2.203991</td>\n",
       "    </tr>\n",
       "    <tr>\n",
       "      <th>5</th>\n",
       "      <td>0.338046</td>\n",
       "      <td>-1.520118</td>\n",
       "      <td>1.748671</td>\n",
       "      <td>-0.181193</td>\n",
       "      <td>1.572027</td>\n",
       "      <td>1.457834</td>\n",
       "      <td>-2.204756</td>\n",
       "      <td>2.203991</td>\n",
       "      <td>1.946926</td>\n",
       "    </tr>\n",
       "    <tr>\n",
       "      <th>6</th>\n",
       "      <td>-1.520118</td>\n",
       "      <td>1.748671</td>\n",
       "      <td>-0.181193</td>\n",
       "      <td>1.572027</td>\n",
       "      <td>1.457834</td>\n",
       "      <td>-2.204756</td>\n",
       "      <td>2.203991</td>\n",
       "      <td>1.946926</td>\n",
       "      <td>-0.888571</td>\n",
       "    </tr>\n",
       "    <tr>\n",
       "      <th>7</th>\n",
       "      <td>1.748671</td>\n",
       "      <td>-0.181193</td>\n",
       "      <td>1.572027</td>\n",
       "      <td>1.457834</td>\n",
       "      <td>-2.204756</td>\n",
       "      <td>2.203991</td>\n",
       "      <td>1.946926</td>\n",
       "      <td>-0.888571</td>\n",
       "      <td>-1.484815</td>\n",
       "    </tr>\n",
       "    <tr>\n",
       "      <th>8</th>\n",
       "      <td>-0.181193</td>\n",
       "      <td>1.572027</td>\n",
       "      <td>1.457834</td>\n",
       "      <td>-2.204756</td>\n",
       "      <td>2.203991</td>\n",
       "      <td>1.946926</td>\n",
       "      <td>-0.888571</td>\n",
       "      <td>-1.484815</td>\n",
       "      <td>3.718820</td>\n",
       "    </tr>\n",
       "    <tr>\n",
       "      <th>9</th>\n",
       "      <td>1.572027</td>\n",
       "      <td>1.457834</td>\n",
       "      <td>-2.204756</td>\n",
       "      <td>2.203991</td>\n",
       "      <td>1.946926</td>\n",
       "      <td>-0.888571</td>\n",
       "      <td>-1.484815</td>\n",
       "      <td>3.718820</td>\n",
       "      <td>0.880625</td>\n",
       "    </tr>\n",
       "    <tr>\n",
       "      <th>10</th>\n",
       "      <td>1.457834</td>\n",
       "      <td>-2.204756</td>\n",
       "      <td>2.203991</td>\n",
       "      <td>1.946926</td>\n",
       "      <td>-0.888571</td>\n",
       "      <td>-1.484815</td>\n",
       "      <td>3.718820</td>\n",
       "      <td>0.880625</td>\n",
       "      <td>1.798244</td>\n",
       "    </tr>\n",
       "    <tr>\n",
       "      <th>11</th>\n",
       "      <td>-2.204756</td>\n",
       "      <td>2.203991</td>\n",
       "      <td>1.946926</td>\n",
       "      <td>-0.888571</td>\n",
       "      <td>-1.484815</td>\n",
       "      <td>3.718820</td>\n",
       "      <td>0.880625</td>\n",
       "      <td>1.798244</td>\n",
       "      <td>1.588522</td>\n",
       "    </tr>\n",
       "    <tr>\n",
       "      <th>12</th>\n",
       "      <td>2.203991</td>\n",
       "      <td>1.946926</td>\n",
       "      <td>-0.888571</td>\n",
       "      <td>-1.484815</td>\n",
       "      <td>3.718820</td>\n",
       "      <td>0.880625</td>\n",
       "      <td>1.798244</td>\n",
       "      <td>1.588522</td>\n",
       "      <td>-0.153625</td>\n",
       "    </tr>\n",
       "    <tr>\n",
       "      <th>13</th>\n",
       "      <td>1.946926</td>\n",
       "      <td>-0.888571</td>\n",
       "      <td>-1.484815</td>\n",
       "      <td>3.718820</td>\n",
       "      <td>0.880625</td>\n",
       "      <td>1.798244</td>\n",
       "      <td>1.588522</td>\n",
       "      <td>-0.153625</td>\n",
       "      <td>0.109487</td>\n",
       "    </tr>\n",
       "    <tr>\n",
       "      <th>14</th>\n",
       "      <td>-0.888571</td>\n",
       "      <td>-1.484815</td>\n",
       "      <td>3.718820</td>\n",
       "      <td>0.880625</td>\n",
       "      <td>1.798244</td>\n",
       "      <td>1.588522</td>\n",
       "      <td>-0.153625</td>\n",
       "      <td>0.109487</td>\n",
       "      <td>4.088971</td>\n",
       "    </tr>\n",
       "  </tbody>\n",
       "</table>\n",
       "</div>"
      ],
      "text/plain": [
       "    var1(t-4)  var1(t-3)  var1(t-2)  var1(t-1)   var1(t)  var1(t+1)  \\\n",
       "4    4.558464   0.338046  -1.520118   1.748671 -0.181193   1.572027   \n",
       "5    0.338046  -1.520118   1.748671  -0.181193  1.572027   1.457834   \n",
       "6   -1.520118   1.748671  -0.181193   1.572027  1.457834  -2.204756   \n",
       "7    1.748671  -0.181193   1.572027   1.457834 -2.204756   2.203991   \n",
       "8   -0.181193   1.572027   1.457834  -2.204756  2.203991   1.946926   \n",
       "9    1.572027   1.457834  -2.204756   2.203991  1.946926  -0.888571   \n",
       "10   1.457834  -2.204756   2.203991   1.946926 -0.888571  -1.484815   \n",
       "11  -2.204756   2.203991   1.946926  -0.888571 -1.484815   3.718820   \n",
       "12   2.203991   1.946926  -0.888571  -1.484815  3.718820   0.880625   \n",
       "13   1.946926  -0.888571  -1.484815   3.718820  0.880625   1.798244   \n",
       "14  -0.888571  -1.484815   3.718820   0.880625  1.798244   1.588522   \n",
       "\n",
       "    var1(t+2)  var1(t+3)  var1(t+4)  \n",
       "4    1.457834  -2.204756   2.203991  \n",
       "5   -2.204756   2.203991   1.946926  \n",
       "6    2.203991   1.946926  -0.888571  \n",
       "7    1.946926  -0.888571  -1.484815  \n",
       "8   -0.888571  -1.484815   3.718820  \n",
       "9   -1.484815   3.718820   0.880625  \n",
       "10   3.718820   0.880625   1.798244  \n",
       "11   0.880625   1.798244   1.588522  \n",
       "12   1.798244   1.588522  -0.153625  \n",
       "13   1.588522  -0.153625   0.109487  \n",
       "14  -0.153625   0.109487   4.088971  "
      ]
     },
     "execution_count": 9,
     "metadata": {},
     "output_type": "execute_result"
    }
   ],
   "source": [
    "train_diff_df = series_to_supervised(train_diff,lstm_num_timesteps, lstm_num_predictions)\n",
    "test_diff_df = series_to_supervised(test_diff,lstm_num_timesteps, lstm_num_predictions)\n",
    "test_diff_df"
   ]
  },
  {
   "cell_type": "code",
   "execution_count": 10,
   "metadata": {
    "collapsed": true
   },
   "outputs": [],
   "source": [
    "train_diff_matrix = train_diff_df.values\n",
    "test_diff_matrix = test_diff_df.values"
   ]
  },
  {
   "cell_type": "code",
   "execution_count": 11,
   "metadata": {},
   "outputs": [
    {
     "data": {
      "text/plain": [
       "array([[ 0.76773845,  6.46948997, -2.65785188, -2.68560912,  1.58375225,\n",
       "         1.87621952,  1.99784435, -0.40096689,  4.35622193],\n",
       "       [ 6.46948997, -2.65785188, -2.68560912,  1.58375225,  1.87621952,\n",
       "         1.99784435, -0.40096689,  4.35622193, -0.69211545],\n",
       "       [-2.65785188, -2.68560912,  1.58375225,  1.87621952,  1.99784435,\n",
       "        -0.40096689,  4.35622193, -0.69211545,  1.27601494],\n",
       "       [-2.68560912,  1.58375225,  1.87621952,  1.99784435, -0.40096689,\n",
       "         4.35622193, -0.69211545,  1.27601494, -0.35614738],\n",
       "       [ 1.58375225,  1.87621952,  1.99784435, -0.40096689,  4.35622193,\n",
       "        -0.69211545,  1.27601494, -0.35614738,  3.13249379]])"
      ]
     },
     "execution_count": 11,
     "metadata": {},
     "output_type": "execute_result"
    }
   ],
   "source": [
    "train_diff_matrix[:5,:]"
   ]
  },
  {
   "cell_type": "code",
   "execution_count": 12,
   "metadata": {
    "collapsed": true
   },
   "outputs": [],
   "source": [
    "def scale(train, test):\n",
    "    scaler = MinMaxScaler(feature_range=(-1, 1))\n",
    "    scaler = scaler.fit(train)\n",
    "    train = train.reshape(train.shape[0], train.shape[1])\n",
    "    train_scaled = scaler.transform(train)\n",
    "    test = test.reshape(test.shape[0], test.shape[1])\n",
    "    test_scaled = scaler.transform(test)\n",
    "    return scaler, train_scaled, test_scaled\n",
    "\n",
    "def invert_scale(scaler, X, yhat):\n",
    "    new_row = [x for x in X] + [yhat]\n",
    "    array = np.array(new_row)\n",
    "    array = array.reshape(1, len(array))\n",
    "    inverted = scaler.inverse_transform(array)\n",
    "    return inverted[0, -1]\n"
   ]
  },
  {
   "cell_type": "code",
   "execution_count": 13,
   "metadata": {},
   "outputs": [
    {
     "data": {
      "text/plain": [
       "array([[ 0.52306408,  0.09245201, -0.09713772,  0.23637906,  0.03947376,\n",
       "         0.21835592,  0.20670474, -0.16699172,  0.28283564],\n",
       "       [ 0.09245201, -0.09713772,  0.23637906,  0.03947376,  0.21835592,\n",
       "         0.20670474, -0.16699172,  0.28283564,  0.25660708],\n",
       "       [-0.09713772,  0.23637906,  0.03947376,  0.21835592,  0.20670474,\n",
       "        -0.16699172,  0.28283564,  0.25660708, -0.03270054],\n",
       "       [ 0.23637906,  0.03947376,  0.21835592,  0.20670474, -0.16699172,\n",
       "         0.28283564,  0.25660708, -0.03270054, -0.09353572],\n",
       "       [ 0.03947376,  0.21835592,  0.20670474, -0.16699172,  0.28283564,\n",
       "         0.25660708, -0.03270054, -0.09353572,  0.4373946 ],\n",
       "       [ 0.21835592,  0.20670474, -0.16699172,  0.28283564,  0.25660708,\n",
       "        -0.03270054, -0.09353572,  0.4373946 ,  0.14781169],\n",
       "       [ 0.20670474, -0.16699172,  0.28283564,  0.25660708, -0.03270054,\n",
       "        -0.09353572,  0.4373946 ,  0.14781169,  0.24143696],\n",
       "       [-0.16699172,  0.28283564,  0.25660708, -0.03270054, -0.09353572,\n",
       "         0.4373946 ,  0.14781169,  0.24143696,  0.22003893],\n",
       "       [ 0.28283564,  0.25660708, -0.03270054, -0.09353572,  0.4373946 ,\n",
       "         0.14781169,  0.24143696,  0.22003893,  0.04228654],\n",
       "       [ 0.25660708, -0.03270054, -0.09353572,  0.4373946 ,  0.14781169,\n",
       "         0.24143696,  0.22003893,  0.04228654,  0.06913196],\n",
       "       [-0.03270054, -0.09353572,  0.4373946 ,  0.14781169,  0.24143696,\n",
       "         0.22003893,  0.04228654,  0.06913196,  0.47516137]])"
      ]
     },
     "execution_count": 13,
     "metadata": {},
     "output_type": "execute_result"
    }
   ],
   "source": [
    "scaler, train_scaled, test_scaled = scale(train_diff_matrix, test_diff_matrix)\n",
    "test_scaled"
   ]
  },
  {
   "cell_type": "code",
   "execution_count": 13,
   "metadata": {
    "collapsed": true
   },
   "outputs": [],
   "source": [
    "def fit_lstm_stateful(train, batchsize, num_epochs, num_neurons):\n",
    "    X, y = train[:, 0:-1], train[:, -1]\n",
    "    X = X.reshape(X.shape[0], 1, X.shape[1])\n",
    "    model = Sequential()\n",
    "    model.add(LSTM(num_neurons, batch_input_shape=(batchsize, X.shape[1], X.shape[2]),\n",
    "                   stateful=True, return_sequences = True))\n",
    "    model.add(TimeDistributed(Dense(1)))\n",
    "    model.add(Activation(\"linear\"))  \n",
    "    model.compile(loss='mean_squared_error', optimizer='adam')\n",
    "    model.summary()\n",
    "    for i in range(num_epochs):\n",
    "        model.fit(X, y, epochs=1, batch_size=batchsize, verbose=1, shuffle=False)\n",
    "        model.reset_states()\n",
    "    return model"
   ]
  },
  {
   "cell_type": "code",
   "execution_count": 14,
   "metadata": {
    "collapsed": true
   },
   "outputs": [],
   "source": [
    "def fit_lstm_stateless(train, batchsize, num_epochs, num_neurons):\n",
    "    X, y = train[:, 0:-1], train[:, -1]\n",
    "    X = X.reshape(X.shape[0], 1, X.shape[1])\n",
    "    model = Sequential()\n",
    "    model.add(LSTM(num_neurons, batch_input_shape=(batchsize, X.shape[1], X.shape[2]), return_sequences = True))\n",
    "    model.add(TimeDistributed(Dense(1)))\n",
    "    model.add(Activation(\"linear\"))  \n",
    "    model.compile(loss='mean_squared_error', optimizer='adam')\n",
    "    model.summary()\n",
    "    model.fit(X, y, epochs=num_epochs, batch_size=batchsize, verbose=1, shuffle=True)\n",
    "    return model"
   ]
  },
  {
   "cell_type": "code",
   "execution_count": 15,
   "metadata": {
    "collapsed": true
   },
   "outputs": [],
   "source": [
    "def forecast_lstm(model, batch_size, X):\n",
    "    if lstm_stateful:\n",
    "         model.reset_states()\n",
    "    X = X.reshape(1, 1, len(X))\n",
    "    yhat = model.predict(X, batch_size=batch_size)\n",
    "    return yhat[0,0]"
   ]
  },
  {
   "cell_type": "code",
   "execution_count": 16,
   "metadata": {},
   "outputs": [
    {
     "name": "stdout",
     "output_type": "stream",
     "text": [
      "_________________________________________________________________\n",
      "Layer (type)                 Output Shape              Param #   \n",
      "=================================================================\n",
      "lstm_1 (LSTM)                (1, 4)                    144       \n",
      "_________________________________________________________________\n",
      "dense_1 (Dense)              (1, 1)                    5         \n",
      "=================================================================\n",
      "Total params: 149\n",
      "Trainable params: 149\n",
      "Non-trainable params: 0\n",
      "_________________________________________________________________\n",
      "Epoch 1/1\n",
      "95/95 [==============================] - 0s - loss: 0.1866     \n",
      "Epoch 1/1\n",
      "95/95 [==============================] - 0s - loss: 0.1708     \n",
      "Epoch 1/1\n",
      "95/95 [==============================] - 0s - loss: 0.1621     \n",
      "Epoch 1/1\n",
      "95/95 [==============================] - 0s - loss: 0.1547     \n",
      "Epoch 1/1\n",
      "95/95 [==============================] - 0s - loss: 0.1477     \n",
      "Test RMSE: 1.466\n"
     ]
    }
   ],
   "source": [
    "train_diff = difference(train, 1)\n",
    "test_diff = difference(test, 1)\n",
    "train_matrix = series_to_supervised(train_diff, lstm_num_timesteps).values\n",
    "test_matrix = series_to_supervised(test_diff, lstm_num_timesteps).values\n",
    "scaler, train_scaled, test_scaled = scale(train_matrix, test_matrix)\n",
    "\n",
    "if lstm_stateful:\n",
    "    lstm_model = fit_lstm_stateful(train_scaled, batchsize, num_epochs, num_neurons)\n",
    "else:\n",
    "    lstm_model = fit_lstm_stateless(train_scaled, batchsize, num_epochs, num_neurons)\n",
    "        \n",
    "train_predictions = list()\n",
    "for i in range(len(train_scaled)):\n",
    "    X, y = train_scaled[i, 0:-1], train_scaled[i, -1]\n",
    "    yhat = forecast_lstm(lstm_model, 1, X)\n",
    "    yhat = invert_scale(scaler, X, yhat)\n",
    "    yhat = inverse_difference(train, yhat, len(train_scaled)+1-i)\n",
    "    train_predictions.append(yhat)\n",
    "            \n",
    "test_predictions = list()\n",
    "for i in range(len(test_scaled)):\n",
    "    X, y = test_scaled[i, 0:-1], test_scaled[i, -1]\n",
    "    yhat = forecast_lstm(lstm_model, 1, X)\n",
    "    yhat = invert_scale(scaler, X, yhat)\n",
    "    yhat = inverse_difference(test, yhat, len(test_scaled)+1-i)\n",
    "    test_predictions.append(yhat)\n",
    "         \n",
    "rmse = sqrt(mean_squared_error(test[effective_timesteps:], test_predictions))\n",
    "print('Test RMSE: %.3f' % rmse)"
   ]
  },
  {
   "cell_type": "code",
   "execution_count": 17,
   "metadata": {},
   "outputs": [
    {
     "data": {
      "text/plain": [
       "[115.83511658847435,\n",
       " 115.89536638671774,\n",
       " 117.55017190390456,\n",
       " 117.91801063016634,\n",
       " 118.05468461586976,\n",
       " 120.71599495183632,\n",
       " 122.1552885182834,\n",
       " 124.04603650827961,\n",
       " 123.16526810145027,\n",
       " 124.86573475478588]"
      ]
     },
     "execution_count": 17,
     "metadata": {},
     "output_type": "execute_result"
    }
   ],
   "source": [
    "test_predictions[:10]"
   ]
  },
  {
   "cell_type": "code",
   "execution_count": 18,
   "metadata": {},
   "outputs": [
    {
     "data": {
      "text/plain": [
       "[13.524759336738766,\n",
       " 16.902363321082717,\n",
       " 17.920034731062021,\n",
       " 18.196734300324277,\n",
       " 21.773546757280482,\n",
       " 21.189044437788453,\n",
       " 25.789043281528116,\n",
       " 24.614957906216549,\n",
       " 22.981490711730327,\n",
       " 24.292919435539218]"
      ]
     },
     "execution_count": 18,
     "metadata": {},
     "output_type": "execute_result"
    }
   ],
   "source": [
    "train_predictions[:10]"
   ]
  },
  {
   "cell_type": "code",
   "execution_count": 19,
   "metadata": {
    "collapsed": true
   },
   "outputs": [],
   "source": [
    "def plot_results(predicted_data, true_data):\n",
    "    fig = plt.figure(facecolor='white')\n",
    "    ax = fig.add_subplot(111)\n",
    "    ax.plot(true_data, label='True Data')\n",
    "    padding = [np.nan for i in range(effective_timesteps)]\n",
    "    plt.plot(padding + predicted_data, label='Prediction')\n",
    "    plt.legend()\n",
    "    plt.show()"
   ]
  },
  {
   "cell_type": "code",
   "execution_count": 20,
   "metadata": {},
   "outputs": [
    {
     "data": {
      "image/png": "[encoded data removed]",
      "text/plain": [
       "<matplotlib.figure.Figure at 0x7f63ee8c6898>"
      ]
     },
     "metadata": {},
     "output_type": "display_data"
    }
   ],
   "source": [
    "plot_results(train_predictions, train)"
   ]
  },
  {
   "cell_type": "code",
   "execution_count": 21,
   "metadata": {},
   "outputs": [
    {
     "data": {
      "image/png": "[encoded data removed]",
      "text/plain": [
       "<matplotlib.figure.Figure at 0x7f63e85dd908>"
      ]
     },
     "metadata": {},
     "output_type": "display_data"
    }
   ],
   "source": [
    "plot_results(test_predictions, test)"
   ]
  },
  {
   "cell_type": "code",
   "execution_count": null,
   "metadata": {
    "collapsed": true
   },
   "outputs": [],
   "source": []
  }
 ],
 "metadata": {
  "kernelspec": {
   "display_name": "Python 3",
   "language": "python",
   "name": "python3"
  },
  "language_info": {
   "codemirror_mode": {
    "name": "ipython",
    "version": 3
   },
   "file_extension": ".py",
   "mimetype": "text/x-python",
   "name": "python",
   "nbconvert_exporter": "python",
   "pygments_lexer": "ipython3",
   "version": "3.5.3"
  }
 },
 "nbformat": 4,
 "nbformat_minor": 2
}
